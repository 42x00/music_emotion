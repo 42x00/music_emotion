{
 "cells": [
  {
   "cell_type": "code",
   "execution_count": 1,
   "metadata": {
    "collapsed": true
   },
   "outputs": [
    {
     "data": {
      "text/plain": "     color       top      left               filename  id  \\\n0  #625647   61.3857  527.1260  01 - Tree Dance&1.mp3   1   \n1  #7E3B7C  549.3154  283.8655     04F4xlWSFh0_18.mp3   2   \n2  #C662C2  552.4995  255.2897     04F4xlWSFh0_75.mp3   3   \n3  #000F0F  351.4901  417.3034    05UApr2UQHQ_227.mp3   4   \n4  #20206B  418.3582  386.3836     073TNjLc070_40.mp3   5   \n\n                                         description  \\\n0  57% Calm, relaxing, serene, 54% Dreamy, 29% Be...   \n1  42% Energizing, pump-up, 25% Proud, strong, 22...   \n2  50% Energizing, pump-up, 35% Exciting, 31% Pro...   \n3  20% Calm, relaxing, serene, 20% Energizing, pu...   \n4  29% Energizing, pump-up, 25% Erotic, desirous,...   \n\n                                         feature  \\\n0    [5.5,6.8,6.1,5.7,4,5.7,5.3,3.3,6.5,6.4,4.8]   \n1  [4.9,3.8,4.6,4.2,5.4,3.9,5.5,4.5,3.6,4.4,5.3]   \n2  [7.6,4.8,5.2,4.4,7.5,4.4,6.2,4.9,4.6,5.5,6.1]   \n3  [5.1,4.7,5.2,5.1,4.3,5.4,4.3,4.5,5.6,5.5,3.9]   \n4  [6.1,3.7,5.1,4.3,5.3,5.9,4.8,3.9,4.9,6.1,4.7]   \n\n                                           url  \n0        https://www.amazon.com/dp/B00B6N6U9K/  \n1  https://www.youtube.com/watch?v=04F4xlWSFh0  \n2  https://www.youtube.com/watch?v=04F4xlWSFh0  \n3  https://www.youtube.com/watch?v=05UApr2UQHQ  \n4  https://www.youtube.com/watch?v=073TNjLc070  ",
      "text/html": "<div>\n<style scoped>\n    .dataframe tbody tr th:only-of-type {\n        vertical-align: middle;\n    }\n\n    .dataframe tbody tr th {\n        vertical-align: top;\n    }\n\n    .dataframe thead th {\n        text-align: right;\n    }\n</style>\n<table border=\"1\" class=\"dataframe\">\n  <thead>\n    <tr style=\"text-align: right;\">\n      <th></th>\n      <th>color</th>\n      <th>top</th>\n      <th>left</th>\n      <th>filename</th>\n      <th>id</th>\n      <th>description</th>\n      <th>feature</th>\n      <th>url</th>\n    </tr>\n  </thead>\n  <tbody>\n    <tr>\n      <th>0</th>\n      <td>#625647</td>\n      <td>61.3857</td>\n      <td>527.1260</td>\n      <td>01 - Tree Dance&amp;1.mp3</td>\n      <td>1</td>\n      <td>57% Calm, relaxing, serene, 54% Dreamy, 29% Be...</td>\n      <td>[5.5,6.8,6.1,5.7,4,5.7,5.3,3.3,6.5,6.4,4.8]</td>\n      <td>https://www.amazon.com/dp/B00B6N6U9K/</td>\n    </tr>\n    <tr>\n      <th>1</th>\n      <td>#7E3B7C</td>\n      <td>549.3154</td>\n      <td>283.8655</td>\n      <td>04F4xlWSFh0_18.mp3</td>\n      <td>2</td>\n      <td>42% Energizing, pump-up, 25% Proud, strong, 22...</td>\n      <td>[4.9,3.8,4.6,4.2,5.4,3.9,5.5,4.5,3.6,4.4,5.3]</td>\n      <td>https://www.youtube.com/watch?v=04F4xlWSFh0</td>\n    </tr>\n    <tr>\n      <th>2</th>\n      <td>#C662C2</td>\n      <td>552.4995</td>\n      <td>255.2897</td>\n      <td>04F4xlWSFh0_75.mp3</td>\n      <td>3</td>\n      <td>50% Energizing, pump-up, 35% Exciting, 31% Pro...</td>\n      <td>[7.6,4.8,5.2,4.4,7.5,4.4,6.2,4.9,4.6,5.5,6.1]</td>\n      <td>https://www.youtube.com/watch?v=04F4xlWSFh0</td>\n    </tr>\n    <tr>\n      <th>3</th>\n      <td>#000F0F</td>\n      <td>351.4901</td>\n      <td>417.3034</td>\n      <td>05UApr2UQHQ_227.mp3</td>\n      <td>4</td>\n      <td>20% Calm, relaxing, serene, 20% Energizing, pu...</td>\n      <td>[5.1,4.7,5.2,5.1,4.3,5.4,4.3,4.5,5.6,5.5,3.9]</td>\n      <td>https://www.youtube.com/watch?v=05UApr2UQHQ</td>\n    </tr>\n    <tr>\n      <th>4</th>\n      <td>#20206B</td>\n      <td>418.3582</td>\n      <td>386.3836</td>\n      <td>073TNjLc070_40.mp3</td>\n      <td>5</td>\n      <td>29% Energizing, pump-up, 25% Erotic, desirous,...</td>\n      <td>[6.1,3.7,5.1,4.3,5.3,5.9,4.8,3.9,4.9,6.1,4.7]</td>\n      <td>https://www.youtube.com/watch?v=073TNjLc070</td>\n    </tr>\n  </tbody>\n</table>\n</div>"
     },
     "execution_count": 1,
     "metadata": {},
     "output_type": "execute_result"
    }
   ],
   "source": [
    "import os\n",
    "\n",
    "import numpy as np\n",
    "import pandas as pd\n",
    "\n",
    "df = pd.read_csv('../../data/backup/raw.csv')\n",
    "df.head()"
   ]
  },
  {
   "cell_type": "code",
   "execution_count": 13,
   "outputs": [
    {
     "data": {
      "text/plain": "     color       top      left               filename  id  \\\n0  #625647   61.3857  527.1260  01 - Tree Dance&1.mp3   1   \n1  #7E3B7C  549.3154  283.8655     04F4xlWSFh0_18.mp3   2   \n2  #C662C2  552.4995  255.2897     04F4xlWSFh0_75.mp3   3   \n3  #000F0F  351.4901  417.3034    05UApr2UQHQ_227.mp3   4   \n4  #20206B  418.3582  386.3836     073TNjLc070_40.mp3   5   \n\n                                         description  \\\n0  57% Calm, relaxing, serene, 54% Dreamy, 29% Be...   \n1  42% Energizing, pump-up, 25% Proud, strong, 22...   \n2  50% Energizing, pump-up, 35% Exciting, 31% Pro...   \n3  20% Calm, relaxing, serene, 20% Energizing, pu...   \n4  29% Energizing, pump-up, 25% Erotic, desirous,...   \n\n                                             feature  \\\n0  [5.5, 6.8, 6.1, 5.7, 4.0, 5.7, 5.3, 3.3, 6.5, ...   \n1  [4.9, 3.8, 4.6, 4.2, 5.4, 3.9, 5.5, 4.5, 3.6, ...   \n2  [7.6, 4.8, 5.2, 4.4, 7.5, 4.4, 6.2, 4.9, 4.6, ...   \n3  [5.1, 4.7, 5.2, 5.1, 4.3, 5.4, 4.3, 4.5, 5.6, ...   \n4  [6.1, 3.7, 5.1, 4.3, 5.3, 5.9, 4.8, 3.9, 4.9, ...   \n\n                                           url  \\\n0        https://www.amazon.com/dp/B00B6N6U9K/   \n1  https://www.youtube.com/watch?v=04F4xlWSFh0   \n2  https://www.youtube.com/watch?v=04F4xlWSFh0   \n3  https://www.youtube.com/watch?v=05UApr2UQHQ   \n4  https://www.youtube.com/watch?v=073TNjLc070   \n\n                                             emotion  \n0  [4, 0, 7, 4, 7, 29, 4, 57, 14, 54, 7, 4, 18, 4...  \n1  [3, 3, 8, 14, 0, 0, 0, 0, 0, 3, 6, 42, 6, 0, 1...  \n2  [0, 15, 19, 15, 0, 4, 4, 4, 0, 4, 12, 50, 0, 0...  \n3  [9, 0, 6, 9, 6, 11, 3, 20, 3, 14, 6, 20, 9, 6,...  \n4  [14, 0, 14, 0, 4, 14, 0, 4, 11, 14, 14, 29, 7,...  ",
      "text/html": "<div>\n<style scoped>\n    .dataframe tbody tr th:only-of-type {\n        vertical-align: middle;\n    }\n\n    .dataframe tbody tr th {\n        vertical-align: top;\n    }\n\n    .dataframe thead th {\n        text-align: right;\n    }\n</style>\n<table border=\"1\" class=\"dataframe\">\n  <thead>\n    <tr style=\"text-align: right;\">\n      <th></th>\n      <th>color</th>\n      <th>top</th>\n      <th>left</th>\n      <th>filename</th>\n      <th>id</th>\n      <th>description</th>\n      <th>feature</th>\n      <th>url</th>\n      <th>emotion</th>\n    </tr>\n  </thead>\n  <tbody>\n    <tr>\n      <th>0</th>\n      <td>#625647</td>\n      <td>61.3857</td>\n      <td>527.1260</td>\n      <td>01 - Tree Dance&amp;1.mp3</td>\n      <td>1</td>\n      <td>57% Calm, relaxing, serene, 54% Dreamy, 29% Be...</td>\n      <td>[5.5, 6.8, 6.1, 5.7, 4.0, 5.7, 5.3, 3.3, 6.5, ...</td>\n      <td>https://www.amazon.com/dp/B00B6N6U9K/</td>\n      <td>[4, 0, 7, 4, 7, 29, 4, 57, 14, 54, 7, 4, 18, 4...</td>\n    </tr>\n    <tr>\n      <th>1</th>\n      <td>#7E3B7C</td>\n      <td>549.3154</td>\n      <td>283.8655</td>\n      <td>04F4xlWSFh0_18.mp3</td>\n      <td>2</td>\n      <td>42% Energizing, pump-up, 25% Proud, strong, 22...</td>\n      <td>[4.9, 3.8, 4.6, 4.2, 5.4, 3.9, 5.5, 4.5, 3.6, ...</td>\n      <td>https://www.youtube.com/watch?v=04F4xlWSFh0</td>\n      <td>[3, 3, 8, 14, 0, 0, 0, 0, 0, 3, 6, 42, 6, 0, 1...</td>\n    </tr>\n    <tr>\n      <th>2</th>\n      <td>#C662C2</td>\n      <td>552.4995</td>\n      <td>255.2897</td>\n      <td>04F4xlWSFh0_75.mp3</td>\n      <td>3</td>\n      <td>50% Energizing, pump-up, 35% Exciting, 31% Pro...</td>\n      <td>[7.6, 4.8, 5.2, 4.4, 7.5, 4.4, 6.2, 4.9, 4.6, ...</td>\n      <td>https://www.youtube.com/watch?v=04F4xlWSFh0</td>\n      <td>[0, 15, 19, 15, 0, 4, 4, 4, 0, 4, 12, 50, 0, 0...</td>\n    </tr>\n    <tr>\n      <th>3</th>\n      <td>#000F0F</td>\n      <td>351.4901</td>\n      <td>417.3034</td>\n      <td>05UApr2UQHQ_227.mp3</td>\n      <td>4</td>\n      <td>20% Calm, relaxing, serene, 20% Energizing, pu...</td>\n      <td>[5.1, 4.7, 5.2, 5.1, 4.3, 5.4, 4.3, 4.5, 5.6, ...</td>\n      <td>https://www.youtube.com/watch?v=05UApr2UQHQ</td>\n      <td>[9, 0, 6, 9, 6, 11, 3, 20, 3, 14, 6, 20, 9, 6,...</td>\n    </tr>\n    <tr>\n      <th>4</th>\n      <td>#20206B</td>\n      <td>418.3582</td>\n      <td>386.3836</td>\n      <td>073TNjLc070_40.mp3</td>\n      <td>5</td>\n      <td>29% Energizing, pump-up, 25% Erotic, desirous,...</td>\n      <td>[6.1, 3.7, 5.1, 4.3, 5.3, 5.9, 4.8, 3.9, 4.9, ...</td>\n      <td>https://www.youtube.com/watch?v=073TNjLc070</td>\n      <td>[14, 0, 14, 0, 4, 14, 0, 4, 11, 14, 14, 29, 7,...</td>\n    </tr>\n  </tbody>\n</table>\n</div>"
     },
     "execution_count": 13,
     "metadata": {},
     "output_type": "execute_result"
    }
   ],
   "source": [
    "import re\n",
    "from emotion.utils import e2i\n",
    "import numpy as np\n",
    "\n",
    "df['emotion'] = None\n",
    "pattern = re.compile('(\\d+)% (\\D+)')\n",
    "for i, row in df.iterrows():\n",
    "    l = [0] * 28\n",
    "    for ve in pattern.findall(row['description']):\n",
    "        v, e = ve\n",
    "        e = e[:-2] if e.endswith(', ') else e\n",
    "        l[e2i[e]] = int(v)\n",
    "    df.at[i, 'emotion'] = np.array(l)\n",
    "df.head()"
   ],
   "metadata": {
    "collapsed": false,
    "pycharm": {
     "name": "#%%\n"
    }
   }
  },
  {
   "cell_type": "code",
   "execution_count": 14,
   "outputs": [
    {
     "ename": "AttributeError",
     "evalue": "'list' object has no attribute 'strip'",
     "output_type": "error",
     "traceback": [
      "\u001B[0;31m---------------------------------------------------------------------------\u001B[0m",
      "\u001B[0;31mAttributeError\u001B[0m                            Traceback (most recent call last)",
      "\u001B[0;32m/var/folders/dd/ycn3gn197sd9xbwfdr0h1hv40000gn/T/ipykernel_31368/92504304.py\u001B[0m in \u001B[0;36m<module>\u001B[0;34m\u001B[0m\n\u001B[0;32m----> 1\u001B[0;31m \u001B[0mdf\u001B[0m\u001B[0;34m[\u001B[0m\u001B[0;34m'feature'\u001B[0m\u001B[0;34m]\u001B[0m \u001B[0;34m=\u001B[0m \u001B[0mdf\u001B[0m\u001B[0;34m[\u001B[0m\u001B[0;34m'feature'\u001B[0m\u001B[0;34m]\u001B[0m\u001B[0;34m.\u001B[0m\u001B[0mapply\u001B[0m\u001B[0;34m(\u001B[0m\u001B[0;32mlambda\u001B[0m \u001B[0mx\u001B[0m\u001B[0;34m:\u001B[0m \u001B[0mnp\u001B[0m\u001B[0;34m.\u001B[0m\u001B[0marray\u001B[0m\u001B[0;34m(\u001B[0m\u001B[0;34m[\u001B[0m\u001B[0mfloat\u001B[0m\u001B[0;34m(\u001B[0m\u001B[0ms\u001B[0m\u001B[0;34m)\u001B[0m \u001B[0;32mfor\u001B[0m \u001B[0ms\u001B[0m \u001B[0;32min\u001B[0m \u001B[0mx\u001B[0m\u001B[0;34m.\u001B[0m\u001B[0mstrip\u001B[0m\u001B[0;34m(\u001B[0m\u001B[0;34m']['\u001B[0m\u001B[0;34m)\u001B[0m\u001B[0;34m.\u001B[0m\u001B[0msplit\u001B[0m\u001B[0;34m(\u001B[0m\u001B[0;34m','\u001B[0m\u001B[0;34m)\u001B[0m\u001B[0;34m]\u001B[0m\u001B[0;34m)\u001B[0m\u001B[0;34m)\u001B[0m\u001B[0;34m\u001B[0m\u001B[0;34m\u001B[0m\u001B[0m\n\u001B[0m\u001B[1;32m      2\u001B[0m \u001B[0mdf\u001B[0m\u001B[0;34m.\u001B[0m\u001B[0mhead\u001B[0m\u001B[0;34m(\u001B[0m\u001B[0;34m)\u001B[0m\u001B[0;34m\u001B[0m\u001B[0;34m\u001B[0m\u001B[0m\n",
      "\u001B[0;32m~/opt/anaconda3/lib/python3.9/site-packages/pandas/core/series.py\u001B[0m in \u001B[0;36mapply\u001B[0;34m(self, func, convert_dtype, args, **kwargs)\u001B[0m\n\u001B[1;32m   4355\u001B[0m         \u001B[0mdtype\u001B[0m\u001B[0;34m:\u001B[0m \u001B[0mfloat64\u001B[0m\u001B[0;34m\u001B[0m\u001B[0;34m\u001B[0m\u001B[0m\n\u001B[1;32m   4356\u001B[0m         \"\"\"\n\u001B[0;32m-> 4357\u001B[0;31m         \u001B[0;32mreturn\u001B[0m \u001B[0mSeriesApply\u001B[0m\u001B[0;34m(\u001B[0m\u001B[0mself\u001B[0m\u001B[0;34m,\u001B[0m \u001B[0mfunc\u001B[0m\u001B[0;34m,\u001B[0m \u001B[0mconvert_dtype\u001B[0m\u001B[0;34m,\u001B[0m \u001B[0margs\u001B[0m\u001B[0;34m,\u001B[0m \u001B[0mkwargs\u001B[0m\u001B[0;34m)\u001B[0m\u001B[0;34m.\u001B[0m\u001B[0mapply\u001B[0m\u001B[0;34m(\u001B[0m\u001B[0;34m)\u001B[0m\u001B[0;34m\u001B[0m\u001B[0;34m\u001B[0m\u001B[0m\n\u001B[0m\u001B[1;32m   4358\u001B[0m \u001B[0;34m\u001B[0m\u001B[0m\n\u001B[1;32m   4359\u001B[0m     def _reduce(\n",
      "\u001B[0;32m~/opt/anaconda3/lib/python3.9/site-packages/pandas/core/apply.py\u001B[0m in \u001B[0;36mapply\u001B[0;34m(self)\u001B[0m\n\u001B[1;32m   1041\u001B[0m             \u001B[0;32mreturn\u001B[0m \u001B[0mself\u001B[0m\u001B[0;34m.\u001B[0m\u001B[0mapply_str\u001B[0m\u001B[0;34m(\u001B[0m\u001B[0;34m)\u001B[0m\u001B[0;34m\u001B[0m\u001B[0;34m\u001B[0m\u001B[0m\n\u001B[1;32m   1042\u001B[0m \u001B[0;34m\u001B[0m\u001B[0m\n\u001B[0;32m-> 1043\u001B[0;31m         \u001B[0;32mreturn\u001B[0m \u001B[0mself\u001B[0m\u001B[0;34m.\u001B[0m\u001B[0mapply_standard\u001B[0m\u001B[0;34m(\u001B[0m\u001B[0;34m)\u001B[0m\u001B[0;34m\u001B[0m\u001B[0;34m\u001B[0m\u001B[0m\n\u001B[0m\u001B[1;32m   1044\u001B[0m \u001B[0;34m\u001B[0m\u001B[0m\n\u001B[1;32m   1045\u001B[0m     \u001B[0;32mdef\u001B[0m \u001B[0magg\u001B[0m\u001B[0;34m(\u001B[0m\u001B[0mself\u001B[0m\u001B[0;34m)\u001B[0m\u001B[0;34m:\u001B[0m\u001B[0;34m\u001B[0m\u001B[0;34m\u001B[0m\u001B[0m\n",
      "\u001B[0;32m~/opt/anaconda3/lib/python3.9/site-packages/pandas/core/apply.py\u001B[0m in \u001B[0;36mapply_standard\u001B[0;34m(self)\u001B[0m\n\u001B[1;32m   1096\u001B[0m                 \u001B[0;31m# List[Union[Callable[..., Any], str]]]]]\"; expected\u001B[0m\u001B[0;34m\u001B[0m\u001B[0;34m\u001B[0m\u001B[0m\n\u001B[1;32m   1097\u001B[0m                 \u001B[0;31m# \"Callable[[Any], Any]\"\u001B[0m\u001B[0;34m\u001B[0m\u001B[0;34m\u001B[0m\u001B[0m\n\u001B[0;32m-> 1098\u001B[0;31m                 mapped = lib.map_infer(\n\u001B[0m\u001B[1;32m   1099\u001B[0m                     \u001B[0mvalues\u001B[0m\u001B[0;34m,\u001B[0m\u001B[0;34m\u001B[0m\u001B[0;34m\u001B[0m\u001B[0m\n\u001B[1;32m   1100\u001B[0m                     \u001B[0mf\u001B[0m\u001B[0;34m,\u001B[0m  \u001B[0;31m# type: ignore[arg-type]\u001B[0m\u001B[0;34m\u001B[0m\u001B[0;34m\u001B[0m\u001B[0m\n",
      "\u001B[0;32m~/opt/anaconda3/lib/python3.9/site-packages/pandas/_libs/lib.pyx\u001B[0m in \u001B[0;36mpandas._libs.lib.map_infer\u001B[0;34m()\u001B[0m\n",
      "\u001B[0;32m/var/folders/dd/ycn3gn197sd9xbwfdr0h1hv40000gn/T/ipykernel_31368/92504304.py\u001B[0m in \u001B[0;36m<lambda>\u001B[0;34m(x)\u001B[0m\n\u001B[0;32m----> 1\u001B[0;31m \u001B[0mdf\u001B[0m\u001B[0;34m[\u001B[0m\u001B[0;34m'feature'\u001B[0m\u001B[0;34m]\u001B[0m \u001B[0;34m=\u001B[0m \u001B[0mdf\u001B[0m\u001B[0;34m[\u001B[0m\u001B[0;34m'feature'\u001B[0m\u001B[0;34m]\u001B[0m\u001B[0;34m.\u001B[0m\u001B[0mapply\u001B[0m\u001B[0;34m(\u001B[0m\u001B[0;32mlambda\u001B[0m \u001B[0mx\u001B[0m\u001B[0;34m:\u001B[0m \u001B[0mnp\u001B[0m\u001B[0;34m.\u001B[0m\u001B[0marray\u001B[0m\u001B[0;34m(\u001B[0m\u001B[0;34m[\u001B[0m\u001B[0mfloat\u001B[0m\u001B[0;34m(\u001B[0m\u001B[0ms\u001B[0m\u001B[0;34m)\u001B[0m \u001B[0;32mfor\u001B[0m \u001B[0ms\u001B[0m \u001B[0;32min\u001B[0m \u001B[0mx\u001B[0m\u001B[0;34m.\u001B[0m\u001B[0mstrip\u001B[0m\u001B[0;34m(\u001B[0m\u001B[0;34m']['\u001B[0m\u001B[0;34m)\u001B[0m\u001B[0;34m.\u001B[0m\u001B[0msplit\u001B[0m\u001B[0;34m(\u001B[0m\u001B[0;34m','\u001B[0m\u001B[0;34m)\u001B[0m\u001B[0;34m]\u001B[0m\u001B[0;34m)\u001B[0m\u001B[0;34m)\u001B[0m\u001B[0;34m\u001B[0m\u001B[0;34m\u001B[0m\u001B[0m\n\u001B[0m\u001B[1;32m      2\u001B[0m \u001B[0mdf\u001B[0m\u001B[0;34m.\u001B[0m\u001B[0mhead\u001B[0m\u001B[0;34m(\u001B[0m\u001B[0;34m)\u001B[0m\u001B[0;34m\u001B[0m\u001B[0;34m\u001B[0m\u001B[0m\n",
      "\u001B[0;31mAttributeError\u001B[0m: 'list' object has no attribute 'strip'"
     ]
    }
   ],
   "source": [
    "df['feature'] = df['feature'].apply(lambda x: np.array([float(s) for s in x.strip('][').split(',')]))\n",
    "df.head()"
   ],
   "metadata": {
    "collapsed": false,
    "pycharm": {
     "name": "#%%\n"
    }
   }
  },
  {
   "cell_type": "code",
   "execution_count": 15,
   "outputs": [
    {
     "data": {
      "text/plain": "     color       top      left               filename  id  \\\n0  #625647   61.3857  527.1260  01 - Tree Dance&1.mp3   1   \n1  #7E3B7C  549.3154  283.8655     04F4xlWSFh0_18.mp3   2   \n2  #C662C2  552.4995  255.2897     04F4xlWSFh0_75.mp3   3   \n3  #000F0F  351.4901  417.3034    05UApr2UQHQ_227.mp3   4   \n4  #20206B  418.3582  386.3836     073TNjLc070_40.mp3   5   \n\n                                         description  \\\n0  57% Calm, relaxing, serene, 54% Dreamy, 29% Be...   \n1  42% Energizing, pump-up, 25% Proud, strong, 22...   \n2  50% Energizing, pump-up, 35% Exciting, 31% Pro...   \n3  20% Calm, relaxing, serene, 20% Energizing, pu...   \n4  29% Energizing, pump-up, 25% Erotic, desirous,...   \n\n                                             feature  \\\n0  [5.5, 6.8, 6.1, 5.7, 4.0, 5.7, 5.3, 3.3, 6.5, ...   \n1  [4.9, 3.8, 4.6, 4.2, 5.4, 3.9, 5.5, 4.5, 3.6, ...   \n2  [7.6, 4.8, 5.2, 4.4, 7.5, 4.4, 6.2, 4.9, 4.6, ...   \n3  [5.1, 4.7, 5.2, 5.1, 4.3, 5.4, 4.3, 4.5, 5.6, ...   \n4  [6.1, 3.7, 5.1, 4.3, 5.3, 5.9, 4.8, 3.9, 4.9, ...   \n\n                                           url  \\\n0        https://www.amazon.com/dp/B00B6N6U9K/   \n1  https://www.youtube.com/watch?v=04F4xlWSFh0   \n2  https://www.youtube.com/watch?v=04F4xlWSFh0   \n3  https://www.youtube.com/watch?v=05UApr2UQHQ   \n4  https://www.youtube.com/watch?v=073TNjLc070   \n\n                                             emotion  \n0  [4, 0, 7, 4, 7, 29, 4, 57, 14, 54, 7, 4, 18, 4...  \n1  [3, 3, 8, 14, 0, 0, 0, 0, 0, 3, 6, 42, 6, 0, 1...  \n2  [0, 15, 19, 15, 0, 4, 4, 4, 0, 4, 12, 50, 0, 0...  \n3  [9, 0, 6, 9, 6, 11, 3, 20, 3, 14, 6, 20, 9, 6,...  \n4  [14, 0, 14, 0, 4, 14, 0, 4, 11, 14, 14, 29, 7,...  ",
      "text/html": "<div>\n<style scoped>\n    .dataframe tbody tr th:only-of-type {\n        vertical-align: middle;\n    }\n\n    .dataframe tbody tr th {\n        vertical-align: top;\n    }\n\n    .dataframe thead th {\n        text-align: right;\n    }\n</style>\n<table border=\"1\" class=\"dataframe\">\n  <thead>\n    <tr style=\"text-align: right;\">\n      <th></th>\n      <th>color</th>\n      <th>top</th>\n      <th>left</th>\n      <th>filename</th>\n      <th>id</th>\n      <th>description</th>\n      <th>feature</th>\n      <th>url</th>\n      <th>emotion</th>\n    </tr>\n  </thead>\n  <tbody>\n    <tr>\n      <th>0</th>\n      <td>#625647</td>\n      <td>61.3857</td>\n      <td>527.1260</td>\n      <td>01 - Tree Dance&amp;1.mp3</td>\n      <td>1</td>\n      <td>57% Calm, relaxing, serene, 54% Dreamy, 29% Be...</td>\n      <td>[5.5, 6.8, 6.1, 5.7, 4.0, 5.7, 5.3, 3.3, 6.5, ...</td>\n      <td>https://www.amazon.com/dp/B00B6N6U9K/</td>\n      <td>[4, 0, 7, 4, 7, 29, 4, 57, 14, 54, 7, 4, 18, 4...</td>\n    </tr>\n    <tr>\n      <th>1</th>\n      <td>#7E3B7C</td>\n      <td>549.3154</td>\n      <td>283.8655</td>\n      <td>04F4xlWSFh0_18.mp3</td>\n      <td>2</td>\n      <td>42% Energizing, pump-up, 25% Proud, strong, 22...</td>\n      <td>[4.9, 3.8, 4.6, 4.2, 5.4, 3.9, 5.5, 4.5, 3.6, ...</td>\n      <td>https://www.youtube.com/watch?v=04F4xlWSFh0</td>\n      <td>[3, 3, 8, 14, 0, 0, 0, 0, 0, 3, 6, 42, 6, 0, 1...</td>\n    </tr>\n    <tr>\n      <th>2</th>\n      <td>#C662C2</td>\n      <td>552.4995</td>\n      <td>255.2897</td>\n      <td>04F4xlWSFh0_75.mp3</td>\n      <td>3</td>\n      <td>50% Energizing, pump-up, 35% Exciting, 31% Pro...</td>\n      <td>[7.6, 4.8, 5.2, 4.4, 7.5, 4.4, 6.2, 4.9, 4.6, ...</td>\n      <td>https://www.youtube.com/watch?v=04F4xlWSFh0</td>\n      <td>[0, 15, 19, 15, 0, 4, 4, 4, 0, 4, 12, 50, 0, 0...</td>\n    </tr>\n    <tr>\n      <th>3</th>\n      <td>#000F0F</td>\n      <td>351.4901</td>\n      <td>417.3034</td>\n      <td>05UApr2UQHQ_227.mp3</td>\n      <td>4</td>\n      <td>20% Calm, relaxing, serene, 20% Energizing, pu...</td>\n      <td>[5.1, 4.7, 5.2, 5.1, 4.3, 5.4, 4.3, 4.5, 5.6, ...</td>\n      <td>https://www.youtube.com/watch?v=05UApr2UQHQ</td>\n      <td>[9, 0, 6, 9, 6, 11, 3, 20, 3, 14, 6, 20, 9, 6,...</td>\n    </tr>\n    <tr>\n      <th>4</th>\n      <td>#20206B</td>\n      <td>418.3582</td>\n      <td>386.3836</td>\n      <td>073TNjLc070_40.mp3</td>\n      <td>5</td>\n      <td>29% Energizing, pump-up, 25% Erotic, desirous,...</td>\n      <td>[6.1, 3.7, 5.1, 4.3, 5.3, 5.9, 4.8, 3.9, 4.9, ...</td>\n      <td>https://www.youtube.com/watch?v=073TNjLc070</td>\n      <td>[14, 0, 14, 0, 4, 14, 0, 4, 11, 14, 14, 29, 7,...</td>\n    </tr>\n  </tbody>\n</table>\n</div>"
     },
     "execution_count": 15,
     "metadata": {},
     "output_type": "execute_result"
    }
   ],
   "source": [
    "df = df.sort_values(by=['id'])\n",
    "df.head()"
   ],
   "metadata": {
    "collapsed": false,
    "pycharm": {
     "name": "#%%\n"
    }
   }
  },
  {
   "cell_type": "code",
   "execution_count": 16,
   "outputs": [],
   "source": [
    "df.to_csv('../../data/backup/raw.csv', index=False)"
   ],
   "metadata": {
    "collapsed": false,
    "pycharm": {
     "name": "#%%\n"
    }
   }
  },
  {
   "cell_type": "code",
   "execution_count": 21,
   "outputs": [],
   "source": [
    "E = np.zeros((1841, 28))\n",
    "F = np.zeros((1841, 11))\n",
    "\n",
    "for i, row in df.iterrows():\n",
    "    E[i] = row['emotion']\n",
    "    F[i] = row['feature']"
   ],
   "metadata": {
    "collapsed": false,
    "pycharm": {
     "name": "#%%\n"
    }
   }
  },
  {
   "cell_type": "code",
   "execution_count": 22,
   "outputs": [
    {
     "data": {
      "text/plain": "   Amusing  Angry  Annoying  Anxious, tense  Awe-inspiring, amazing  \\\n0      4.0    0.0       7.0             4.0                     7.0   \n1      3.0    3.0       8.0            14.0                     0.0   \n2      0.0   15.0      19.0            15.0                     0.0   \n3      9.0    0.0       6.0             9.0                     6.0   \n4     14.0    0.0      14.0             0.0                     4.0   \n\n   Beautiful  Bittersweet  Calm, relaxing, serene  Compassionate, sympathetic  \\\n0       29.0          4.0                    57.0                        14.0   \n1        0.0          0.0                     0.0                         0.0   \n2        4.0          4.0                     4.0                         0.0   \n3       11.0          3.0                    20.0                         3.0   \n4       14.0          0.0                     4.0                        11.0   \n\n   Dreamy  ...  Joyful, cheerful  Nauseating, revolting  Painful  \\\n0    54.0  ...              14.0                    0.0      0.0   \n1     3.0  ...               0.0                    8.0     11.0   \n2     4.0  ...               8.0                    8.0     15.0   \n3    14.0  ...              11.0                    3.0      0.0   \n4    14.0  ...              18.0                    0.0      0.0   \n\n   Proud, strong  Romantic, loving  Sad, depressing  Scary, fearful  \\\n0            0.0              21.0              7.0             0.0   \n1           25.0               0.0              0.0             6.0   \n2           31.0               0.0              0.0            15.0   \n3            3.0               3.0              0.0             0.0   \n4            0.0               0.0              0.0             0.0   \n\n   Tender, longing  Transcendent, mystical  Triumphant, heroic  \n0             14.0                     7.0                 0.0  \n1              0.0                     0.0                11.0  \n2              0.0                     0.0                15.0  \n3              0.0                     9.0                 3.0  \n4              0.0                    11.0                 0.0  \n\n[5 rows x 28 columns]",
      "text/html": "<div>\n<style scoped>\n    .dataframe tbody tr th:only-of-type {\n        vertical-align: middle;\n    }\n\n    .dataframe tbody tr th {\n        vertical-align: top;\n    }\n\n    .dataframe thead th {\n        text-align: right;\n    }\n</style>\n<table border=\"1\" class=\"dataframe\">\n  <thead>\n    <tr style=\"text-align: right;\">\n      <th></th>\n      <th>Amusing</th>\n      <th>Angry</th>\n      <th>Annoying</th>\n      <th>Anxious, tense</th>\n      <th>Awe-inspiring, amazing</th>\n      <th>Beautiful</th>\n      <th>Bittersweet</th>\n      <th>Calm, relaxing, serene</th>\n      <th>Compassionate, sympathetic</th>\n      <th>Dreamy</th>\n      <th>...</th>\n      <th>Joyful, cheerful</th>\n      <th>Nauseating, revolting</th>\n      <th>Painful</th>\n      <th>Proud, strong</th>\n      <th>Romantic, loving</th>\n      <th>Sad, depressing</th>\n      <th>Scary, fearful</th>\n      <th>Tender, longing</th>\n      <th>Transcendent, mystical</th>\n      <th>Triumphant, heroic</th>\n    </tr>\n  </thead>\n  <tbody>\n    <tr>\n      <th>0</th>\n      <td>4.0</td>\n      <td>0.0</td>\n      <td>7.0</td>\n      <td>4.0</td>\n      <td>7.0</td>\n      <td>29.0</td>\n      <td>4.0</td>\n      <td>57.0</td>\n      <td>14.0</td>\n      <td>54.0</td>\n      <td>...</td>\n      <td>14.0</td>\n      <td>0.0</td>\n      <td>0.0</td>\n      <td>0.0</td>\n      <td>21.0</td>\n      <td>7.0</td>\n      <td>0.0</td>\n      <td>14.0</td>\n      <td>7.0</td>\n      <td>0.0</td>\n    </tr>\n    <tr>\n      <th>1</th>\n      <td>3.0</td>\n      <td>3.0</td>\n      <td>8.0</td>\n      <td>14.0</td>\n      <td>0.0</td>\n      <td>0.0</td>\n      <td>0.0</td>\n      <td>0.0</td>\n      <td>0.0</td>\n      <td>3.0</td>\n      <td>...</td>\n      <td>0.0</td>\n      <td>8.0</td>\n      <td>11.0</td>\n      <td>25.0</td>\n      <td>0.0</td>\n      <td>0.0</td>\n      <td>6.0</td>\n      <td>0.0</td>\n      <td>0.0</td>\n      <td>11.0</td>\n    </tr>\n    <tr>\n      <th>2</th>\n      <td>0.0</td>\n      <td>15.0</td>\n      <td>19.0</td>\n      <td>15.0</td>\n      <td>0.0</td>\n      <td>4.0</td>\n      <td>4.0</td>\n      <td>4.0</td>\n      <td>0.0</td>\n      <td>4.0</td>\n      <td>...</td>\n      <td>8.0</td>\n      <td>8.0</td>\n      <td>15.0</td>\n      <td>31.0</td>\n      <td>0.0</td>\n      <td>0.0</td>\n      <td>15.0</td>\n      <td>0.0</td>\n      <td>0.0</td>\n      <td>15.0</td>\n    </tr>\n    <tr>\n      <th>3</th>\n      <td>9.0</td>\n      <td>0.0</td>\n      <td>6.0</td>\n      <td>9.0</td>\n      <td>6.0</td>\n      <td>11.0</td>\n      <td>3.0</td>\n      <td>20.0</td>\n      <td>3.0</td>\n      <td>14.0</td>\n      <td>...</td>\n      <td>11.0</td>\n      <td>3.0</td>\n      <td>0.0</td>\n      <td>3.0</td>\n      <td>3.0</td>\n      <td>0.0</td>\n      <td>0.0</td>\n      <td>0.0</td>\n      <td>9.0</td>\n      <td>3.0</td>\n    </tr>\n    <tr>\n      <th>4</th>\n      <td>14.0</td>\n      <td>0.0</td>\n      <td>14.0</td>\n      <td>0.0</td>\n      <td>4.0</td>\n      <td>14.0</td>\n      <td>0.0</td>\n      <td>4.0</td>\n      <td>11.0</td>\n      <td>14.0</td>\n      <td>...</td>\n      <td>18.0</td>\n      <td>0.0</td>\n      <td>0.0</td>\n      <td>0.0</td>\n      <td>0.0</td>\n      <td>0.0</td>\n      <td>0.0</td>\n      <td>0.0</td>\n      <td>11.0</td>\n      <td>0.0</td>\n    </tr>\n  </tbody>\n</table>\n<p>5 rows × 28 columns</p>\n</div>"
     },
     "execution_count": 22,
     "metadata": {},
     "output_type": "execute_result"
    }
   ],
   "source": [
    "from emotion.utils import emotions\n",
    "\n",
    "edf = pd.DataFrame(E, columns=emotions)\n",
    "edf.head()"
   ],
   "metadata": {
    "collapsed": false,
    "pycharm": {
     "name": "#%%\n"
    }
   }
  },
  {
   "cell_type": "code",
   "execution_count": 26,
   "outputs": [
    {
     "data": {
      "text/plain": "           Amusing        Angry     Annoying  Anxious, tense  \\\ncount  1841.000000  1841.000000  1841.000000     1841.000000   \nmean      5.360130     2.311787     6.378599        8.308528   \nstd       9.159405     5.468339     9.979575        9.705970   \nmin       0.000000     0.000000     0.000000        0.000000   \n25%       0.000000     0.000000     0.000000        0.000000   \n50%       3.000000     0.000000     3.000000        4.000000   \n75%       7.000000     3.000000     8.000000       12.000000   \nmax      79.000000    44.000000    79.000000       50.000000   \n\n       Awe-inspiring, amazing    Beautiful  Bittersweet  \\\ncount             1841.000000  1841.000000  1841.000000   \nmean                 8.627376    11.501358     5.923954   \nstd                  8.806877    12.202553     6.636991   \nmin                  0.000000     0.000000     0.000000   \n25%                  3.000000     3.000000     0.000000   \n50%                  6.000000     7.000000     4.000000   \n75%                 12.000000    19.000000     8.000000   \nmax                 57.000000    65.000000    39.000000   \n\n       Calm, relaxing, serene  Compassionate, sympathetic       Dreamy  ...  \\\ncount             1841.000000                 1841.000000  1841.000000  ...   \nmean                16.975557                    9.153721    11.269962  ...   \nstd                 16.636456                    9.404309    10.570283  ...   \nmin                  0.000000                    0.000000     0.000000  ...   \n25%                  3.000000                    0.000000     3.000000  ...   \n50%                 11.000000                    6.000000     8.000000  ...   \n75%                 30.000000                   15.000000    18.000000  ...   \nmax                 74.000000                   48.000000    57.000000  ...   \n\n       Joyful, cheerful  Nauseating, revolting      Painful  Proud, strong  \\\ncount       1841.000000            1841.000000  1841.000000    1841.000000   \nmean          10.871809               1.763715     2.597501       7.907116   \nstd           13.317971               3.487728     3.865170      10.123131   \nmin            0.000000               0.000000     0.000000       0.000000   \n25%            0.000000               0.000000     0.000000       0.000000   \n50%            6.000000               0.000000     0.000000       4.000000   \n75%           15.000000               3.000000     4.000000      11.000000   \nmax           75.000000              42.000000    36.000000      52.000000   \n\n       Romantic, loving  Sad, depressing  Scary, fearful  Tender, longing  \\\ncount       1841.000000      1841.000000     1841.000000      1841.000000   \nmean           9.007605         7.341662        4.582835         7.833243   \nstd           11.525065        10.656803        9.579859         9.752921   \nmin            0.000000         0.000000        0.000000         0.000000   \n25%            0.000000         0.000000        0.000000         0.000000   \n50%            4.000000         3.000000        0.000000         4.000000   \n75%           14.000000        11.000000        4.000000        12.000000   \nmax           67.000000        60.000000       76.000000        61.000000   \n\n       Transcendent, mystical  Triumphant, heroic  \ncount             1841.000000         1841.000000  \nmean                 7.707224            8.582292  \nstd                  8.211180           14.169429  \nmin                  0.000000            0.000000  \n25%                  0.000000            0.000000  \n50%                  6.000000            3.000000  \n75%                 11.000000            9.000000  \nmax                 53.000000           83.000000  \n\n[8 rows x 28 columns]",
      "text/html": "<div>\n<style scoped>\n    .dataframe tbody tr th:only-of-type {\n        vertical-align: middle;\n    }\n\n    .dataframe tbody tr th {\n        vertical-align: top;\n    }\n\n    .dataframe thead th {\n        text-align: right;\n    }\n</style>\n<table border=\"1\" class=\"dataframe\">\n  <thead>\n    <tr style=\"text-align: right;\">\n      <th></th>\n      <th>Amusing</th>\n      <th>Angry</th>\n      <th>Annoying</th>\n      <th>Anxious, tense</th>\n      <th>Awe-inspiring, amazing</th>\n      <th>Beautiful</th>\n      <th>Bittersweet</th>\n      <th>Calm, relaxing, serene</th>\n      <th>Compassionate, sympathetic</th>\n      <th>Dreamy</th>\n      <th>...</th>\n      <th>Joyful, cheerful</th>\n      <th>Nauseating, revolting</th>\n      <th>Painful</th>\n      <th>Proud, strong</th>\n      <th>Romantic, loving</th>\n      <th>Sad, depressing</th>\n      <th>Scary, fearful</th>\n      <th>Tender, longing</th>\n      <th>Transcendent, mystical</th>\n      <th>Triumphant, heroic</th>\n    </tr>\n  </thead>\n  <tbody>\n    <tr>\n      <th>count</th>\n      <td>1841.000000</td>\n      <td>1841.000000</td>\n      <td>1841.000000</td>\n      <td>1841.000000</td>\n      <td>1841.000000</td>\n      <td>1841.000000</td>\n      <td>1841.000000</td>\n      <td>1841.000000</td>\n      <td>1841.000000</td>\n      <td>1841.000000</td>\n      <td>...</td>\n      <td>1841.000000</td>\n      <td>1841.000000</td>\n      <td>1841.000000</td>\n      <td>1841.000000</td>\n      <td>1841.000000</td>\n      <td>1841.000000</td>\n      <td>1841.000000</td>\n      <td>1841.000000</td>\n      <td>1841.000000</td>\n      <td>1841.000000</td>\n    </tr>\n    <tr>\n      <th>mean</th>\n      <td>5.360130</td>\n      <td>2.311787</td>\n      <td>6.378599</td>\n      <td>8.308528</td>\n      <td>8.627376</td>\n      <td>11.501358</td>\n      <td>5.923954</td>\n      <td>16.975557</td>\n      <td>9.153721</td>\n      <td>11.269962</td>\n      <td>...</td>\n      <td>10.871809</td>\n      <td>1.763715</td>\n      <td>2.597501</td>\n      <td>7.907116</td>\n      <td>9.007605</td>\n      <td>7.341662</td>\n      <td>4.582835</td>\n      <td>7.833243</td>\n      <td>7.707224</td>\n      <td>8.582292</td>\n    </tr>\n    <tr>\n      <th>std</th>\n      <td>9.159405</td>\n      <td>5.468339</td>\n      <td>9.979575</td>\n      <td>9.705970</td>\n      <td>8.806877</td>\n      <td>12.202553</td>\n      <td>6.636991</td>\n      <td>16.636456</td>\n      <td>9.404309</td>\n      <td>10.570283</td>\n      <td>...</td>\n      <td>13.317971</td>\n      <td>3.487728</td>\n      <td>3.865170</td>\n      <td>10.123131</td>\n      <td>11.525065</td>\n      <td>10.656803</td>\n      <td>9.579859</td>\n      <td>9.752921</td>\n      <td>8.211180</td>\n      <td>14.169429</td>\n    </tr>\n    <tr>\n      <th>min</th>\n      <td>0.000000</td>\n      <td>0.000000</td>\n      <td>0.000000</td>\n      <td>0.000000</td>\n      <td>0.000000</td>\n      <td>0.000000</td>\n      <td>0.000000</td>\n      <td>0.000000</td>\n      <td>0.000000</td>\n      <td>0.000000</td>\n      <td>...</td>\n      <td>0.000000</td>\n      <td>0.000000</td>\n      <td>0.000000</td>\n      <td>0.000000</td>\n      <td>0.000000</td>\n      <td>0.000000</td>\n      <td>0.000000</td>\n      <td>0.000000</td>\n      <td>0.000000</td>\n      <td>0.000000</td>\n    </tr>\n    <tr>\n      <th>25%</th>\n      <td>0.000000</td>\n      <td>0.000000</td>\n      <td>0.000000</td>\n      <td>0.000000</td>\n      <td>3.000000</td>\n      <td>3.000000</td>\n      <td>0.000000</td>\n      <td>3.000000</td>\n      <td>0.000000</td>\n      <td>3.000000</td>\n      <td>...</td>\n      <td>0.000000</td>\n      <td>0.000000</td>\n      <td>0.000000</td>\n      <td>0.000000</td>\n      <td>0.000000</td>\n      <td>0.000000</td>\n      <td>0.000000</td>\n      <td>0.000000</td>\n      <td>0.000000</td>\n      <td>0.000000</td>\n    </tr>\n    <tr>\n      <th>50%</th>\n      <td>3.000000</td>\n      <td>0.000000</td>\n      <td>3.000000</td>\n      <td>4.000000</td>\n      <td>6.000000</td>\n      <td>7.000000</td>\n      <td>4.000000</td>\n      <td>11.000000</td>\n      <td>6.000000</td>\n      <td>8.000000</td>\n      <td>...</td>\n      <td>6.000000</td>\n      <td>0.000000</td>\n      <td>0.000000</td>\n      <td>4.000000</td>\n      <td>4.000000</td>\n      <td>3.000000</td>\n      <td>0.000000</td>\n      <td>4.000000</td>\n      <td>6.000000</td>\n      <td>3.000000</td>\n    </tr>\n    <tr>\n      <th>75%</th>\n      <td>7.000000</td>\n      <td>3.000000</td>\n      <td>8.000000</td>\n      <td>12.000000</td>\n      <td>12.000000</td>\n      <td>19.000000</td>\n      <td>8.000000</td>\n      <td>30.000000</td>\n      <td>15.000000</td>\n      <td>18.000000</td>\n      <td>...</td>\n      <td>15.000000</td>\n      <td>3.000000</td>\n      <td>4.000000</td>\n      <td>11.000000</td>\n      <td>14.000000</td>\n      <td>11.000000</td>\n      <td>4.000000</td>\n      <td>12.000000</td>\n      <td>11.000000</td>\n      <td>9.000000</td>\n    </tr>\n    <tr>\n      <th>max</th>\n      <td>79.000000</td>\n      <td>44.000000</td>\n      <td>79.000000</td>\n      <td>50.000000</td>\n      <td>57.000000</td>\n      <td>65.000000</td>\n      <td>39.000000</td>\n      <td>74.000000</td>\n      <td>48.000000</td>\n      <td>57.000000</td>\n      <td>...</td>\n      <td>75.000000</td>\n      <td>42.000000</td>\n      <td>36.000000</td>\n      <td>52.000000</td>\n      <td>67.000000</td>\n      <td>60.000000</td>\n      <td>76.000000</td>\n      <td>61.000000</td>\n      <td>53.000000</td>\n      <td>83.000000</td>\n    </tr>\n  </tbody>\n</table>\n<p>8 rows × 28 columns</p>\n</div>"
     },
     "execution_count": 26,
     "metadata": {},
     "output_type": "execute_result"
    }
   ],
   "source": [
    "edf.describe()"
   ],
   "metadata": {
    "collapsed": false,
    "pycharm": {
     "name": "#%%\n"
    }
   }
  },
  {
   "cell_type": "code",
   "execution_count": 23,
   "outputs": [
    {
     "data": {
      "text/plain": "   Arousal  Attention  Certainty  Commitment  Dominance  Enjoyment  Identity  \\\n0      5.5        6.8        6.1         5.7        4.0        5.7       5.3   \n1      4.9        3.8        4.6         4.2        5.4        3.9       5.5   \n2      7.6        4.8        5.2         4.4        7.5        4.4       6.2   \n3      5.1        4.7        5.2         5.1        4.3        5.4       4.3   \n4      6.1        3.7        5.1         4.3        5.3        5.9       4.8   \n\n   Obstruction  Safety  Valence  Familiarity  \n0          3.3     6.5      6.4          4.8  \n1          4.5     3.6      4.4          5.3  \n2          4.9     4.6      5.5          6.1  \n3          4.5     5.6      5.5          3.9  \n4          3.9     4.9      6.1          4.7  ",
      "text/html": "<div>\n<style scoped>\n    .dataframe tbody tr th:only-of-type {\n        vertical-align: middle;\n    }\n\n    .dataframe tbody tr th {\n        vertical-align: top;\n    }\n\n    .dataframe thead th {\n        text-align: right;\n    }\n</style>\n<table border=\"1\" class=\"dataframe\">\n  <thead>\n    <tr style=\"text-align: right;\">\n      <th></th>\n      <th>Arousal</th>\n      <th>Attention</th>\n      <th>Certainty</th>\n      <th>Commitment</th>\n      <th>Dominance</th>\n      <th>Enjoyment</th>\n      <th>Identity</th>\n      <th>Obstruction</th>\n      <th>Safety</th>\n      <th>Valence</th>\n      <th>Familiarity</th>\n    </tr>\n  </thead>\n  <tbody>\n    <tr>\n      <th>0</th>\n      <td>5.5</td>\n      <td>6.8</td>\n      <td>6.1</td>\n      <td>5.7</td>\n      <td>4.0</td>\n      <td>5.7</td>\n      <td>5.3</td>\n      <td>3.3</td>\n      <td>6.5</td>\n      <td>6.4</td>\n      <td>4.8</td>\n    </tr>\n    <tr>\n      <th>1</th>\n      <td>4.9</td>\n      <td>3.8</td>\n      <td>4.6</td>\n      <td>4.2</td>\n      <td>5.4</td>\n      <td>3.9</td>\n      <td>5.5</td>\n      <td>4.5</td>\n      <td>3.6</td>\n      <td>4.4</td>\n      <td>5.3</td>\n    </tr>\n    <tr>\n      <th>2</th>\n      <td>7.6</td>\n      <td>4.8</td>\n      <td>5.2</td>\n      <td>4.4</td>\n      <td>7.5</td>\n      <td>4.4</td>\n      <td>6.2</td>\n      <td>4.9</td>\n      <td>4.6</td>\n      <td>5.5</td>\n      <td>6.1</td>\n    </tr>\n    <tr>\n      <th>3</th>\n      <td>5.1</td>\n      <td>4.7</td>\n      <td>5.2</td>\n      <td>5.1</td>\n      <td>4.3</td>\n      <td>5.4</td>\n      <td>4.3</td>\n      <td>4.5</td>\n      <td>5.6</td>\n      <td>5.5</td>\n      <td>3.9</td>\n    </tr>\n    <tr>\n      <th>4</th>\n      <td>6.1</td>\n      <td>3.7</td>\n      <td>5.1</td>\n      <td>4.3</td>\n      <td>5.3</td>\n      <td>5.9</td>\n      <td>4.8</td>\n      <td>3.9</td>\n      <td>4.9</td>\n      <td>6.1</td>\n      <td>4.7</td>\n    </tr>\n  </tbody>\n</table>\n</div>"
     },
     "execution_count": 23,
     "metadata": {},
     "output_type": "execute_result"
    }
   ],
   "source": [
    "from emotion.utils import features\n",
    "\n",
    "fdf = pd.DataFrame(F, columns=features)\n",
    "fdf.head()"
   ],
   "metadata": {
    "collapsed": false,
    "pycharm": {
     "name": "#%%\n"
    }
   }
  },
  {
   "cell_type": "code",
   "execution_count": 12,
   "outputs": [],
   "source": [
    "cemotions = [\"有趣的_好笑的\", \"气愤的\", \"烦人的_恼人的\", \"焦虑的_紧张的\", \"令人敬畏的_令人惊叹的\", \"美丽的\", \"苦乐参半的\", \"平静的_放松的_安逸的\", \"富于同情心的_善于感受的\",\n",
    "             \"梦幻的\", \"怪异的_神秘的\", \"有活力的_有能量的\", \"使人入迷的\", \"色情的_渴望的\", \"狂喜的_极度喜悦的\", \"兴奋的\", \"起鸡皮疙瘩的\", \"愤愤不平的_反抗的\", \"欢喜的_欢快的\",\n",
    "             \"恶心的_让人反感的\", \"痛苦的\", \"骄傲的_强大的\", \"浪漫的\", \"伤感的_抑郁的\", \"恐怖的_可怕的\", \"温柔的_渴望的\", \"超然的_神化的\", \"胜利的_英勇的\"]\n",
    "\n",
    "from emotion.utils import emotions\n",
    "import numpy as np\n",
    "import pandas as pd\n",
    "import os\n",
    "\n",
    "edf = pd.read_csv('../../data/emotion.csv')\n",
    "\n",
    "for i, e in enumerate(emotions):\n",
    "    id = edf[e].idxmax()\n",
    "    old_path = f'../../data/audio/{str(id).zfill(4)}.mp3'\n",
    "    new_path = f'../../results/top_vis/{str(i).zfill(2)}_{cemotions[i]}_{int(edf.at[id, e])}%.mp3'.replace(' ', '_')\n",
    "    os.system(f'cp {old_path} {new_path}')"
   ],
   "metadata": {
    "collapsed": false,
    "pycharm": {
     "name": "#%%\n"
    }
   }
  },
  {
   "cell_type": "code",
   "execution_count": null,
   "outputs": [],
   "source": [],
   "metadata": {
    "collapsed": false,
    "pycharm": {
     "name": "#%%\n"
    }
   }
  }
 ],
 "metadata": {
  "kernelspec": {
   "display_name": "Python 3",
   "language": "python",
   "name": "python3"
  },
  "language_info": {
   "codemirror_mode": {
    "name": "ipython",
    "version": 2
   },
   "file_extension": ".py",
   "mimetype": "text/x-python",
   "name": "python",
   "nbconvert_exporter": "python",
   "pygments_lexer": "ipython2",
   "version": "2.7.6"
  }
 },
 "nbformat": 4,
 "nbformat_minor": 0
}